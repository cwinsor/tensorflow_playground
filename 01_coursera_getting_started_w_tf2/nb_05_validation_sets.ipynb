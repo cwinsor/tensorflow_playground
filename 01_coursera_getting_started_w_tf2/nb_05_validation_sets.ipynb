{
 "cells": [
  {
   "cell_type": "markdown",
   "id": "1ab0fdcc",
   "metadata": {},
   "source": [
    "# Validation sets"
   ]
  },
  {
   "cell_type": "code",
   "execution_count": 19,
   "id": "c2d5a11f",
   "metadata": {},
   "outputs": [],
   "source": [
    "import tensorflow as tf\n",
    "from tensorflow.keras.models import Sequential\n",
    "from tensorflow.keras.layers import Flatten, Dense, Conv2D, MaxPooling2D\n",
    "from tensorflow.keras.optimizers import Adam"
   ]
  },
  {
   "cell_type": "code",
   "execution_count": 20,
   "id": "c7a4c995",
   "metadata": {},
   "outputs": [
    {
     "name": "stdout",
     "output_type": "stream",
     "text": [
      "[PhysicalDevice(name='/physical_device:GPU:0', device_type='GPU')]\n",
      "{'current': 57600, 'peak': 417280}\n"
     ]
    }
   ],
   "source": [
    "# GPU Status...\n",
    "print(tf.config.experimental.list_physical_devices('GPU'))\n",
    "print(tf.config.experimental.get_memory_info('GPU:0'))"
   ]
  },
  {
   "cell_type": "markdown",
   "id": "44fb19eb",
   "metadata": {},
   "source": [
    "### Build a convolutional neural network model"
   ]
  },
  {
   "cell_type": "markdown",
   "id": "ca5e2943",
   "metadata": {},
   "source": [
    "### notes on model below and input/output...\n",
    "\n",
    "This could be a regression model where the target output is 2-dimensional (i.e. output is a real in [0,1]\n",
    "\n",
    "dense hidden layer\n",
    "linear output with 2 neurons\n",
    "\n",
    "optimizer is mean-squared error loss\n",
    "mean-absolute-percentage-error is metric\n",
    "\n",
    "the input data shape is TBD, but the\n",
    "the output data will need to be x2 (to match the model output)\n",
    "\n",
    "The validation_split on the \".fit\" will split the inputs and target into training and validation\n",
    "the model's performance will be recorded on both training and validation sets"
   ]
  },
  {
   "cell_type": "code",
   "execution_count": 26,
   "id": "5a24c153",
   "metadata": {},
   "outputs": [],
   "source": [
    "# load the data - train and test\n",
    "(X_train, y_train), (X_test, y_test) = tf.keras.datasets.fashion_mnist.load_data()\n"
   ]
  },
  {
   "cell_type": "code",
   "execution_count": 30,
   "id": "3b51d518",
   "metadata": {},
   "outputs": [
    {
     "name": "stdout",
     "output_type": "stream",
     "text": [
      "(60000, 28, 28)\n"
     ]
    }
   ],
   "source": [
    "print(X_train.shape)"
   ]
  },
  {
   "cell_type": "code",
   "execution_count": 27,
   "id": "313a89af",
   "metadata": {},
   "outputs": [],
   "source": [
    "# example - repurpose test as validation\n",
    "# (X_train, y_train), (X_test, y_test) = tf.keras.datasets.fashion_mnist.load_data()\n",
    "# model.fit(X_train, y_train, validation_data=X_test, y_test))"
   ]
  },
  {
   "cell_type": "code",
   "execution_count": 28,
   "id": "9c6dde34",
   "metadata": {},
   "outputs": [],
   "source": [
    "# make training and validation ourselves...\n",
    "# X_train, X_val, y_train, y_val = train_test_split(X, y, test_size=0.1)\n",
    "# model.fit(X_train, y_train, validation_data=X_val, y_val))"
   ]
  },
  {
   "cell_type": "code",
   "execution_count": 29,
   "id": "139307be",
   "metadata": {},
   "outputs": [
    {
     "ename": "ValueError",
     "evalue": "in user code:\n\n    File \"D:\\code_tensorflow_playground\\tensorflow_playground\\01_coursera_getting_started_w_tf2\\venv\\lib\\site-packages\\keras\\engine\\training.py\", line 1160, in train_function  *\n        return step_function(self, iterator)\n    File \"D:\\code_tensorflow_playground\\tensorflow_playground\\01_coursera_getting_started_w_tf2\\venv\\lib\\site-packages\\keras\\engine\\training.py\", line 1146, in step_function  **\n        outputs = model.distribute_strategy.run(run_step, args=(data,))\n    File \"D:\\code_tensorflow_playground\\tensorflow_playground\\01_coursera_getting_started_w_tf2\\venv\\lib\\site-packages\\keras\\engine\\training.py\", line 1135, in run_step  **\n        outputs = model.train_step(data)\n    File \"D:\\code_tensorflow_playground\\tensorflow_playground\\01_coursera_getting_started_w_tf2\\venv\\lib\\site-packages\\keras\\engine\\training.py\", line 994, in train_step\n        loss = self.compute_loss(x, y, y_pred, sample_weight)\n    File \"D:\\code_tensorflow_playground\\tensorflow_playground\\01_coursera_getting_started_w_tf2\\venv\\lib\\site-packages\\keras\\engine\\training.py\", line 1052, in compute_loss\n        return self.compiled_loss(\n    File \"D:\\code_tensorflow_playground\\tensorflow_playground\\01_coursera_getting_started_w_tf2\\venv\\lib\\site-packages\\keras\\engine\\compile_utils.py\", line 265, in __call__\n        loss_value = loss_obj(y_t, y_p, sample_weight=sw)\n    File \"D:\\code_tensorflow_playground\\tensorflow_playground\\01_coursera_getting_started_w_tf2\\venv\\lib\\site-packages\\keras\\losses.py\", line 152, in __call__\n        losses = call_fn(y_true, y_pred)\n    File \"D:\\code_tensorflow_playground\\tensorflow_playground\\01_coursera_getting_started_w_tf2\\venv\\lib\\site-packages\\keras\\losses.py\", line 272, in call  **\n        return ag_fn(y_true, y_pred, **self._fn_kwargs)\n    File \"D:\\code_tensorflow_playground\\tensorflow_playground\\01_coursera_getting_started_w_tf2\\venv\\lib\\site-packages\\keras\\losses.py\", line 1486, in mean_squared_error\n        return backend.mean(tf.math.squared_difference(y_pred, y_true), axis=-1)\n\n    ValueError: Dimensions must be equal, but are 2 and 32 for '{{node mean_squared_error/SquaredDifference}} = SquaredDifference[T=DT_FLOAT](sequential_11/dense_15/BiasAdd, mean_squared_error/Cast)' with input shapes: [32,28,2], [32].\n",
     "output_type": "error",
     "traceback": [
      "\u001b[1;31m---------------------------------------------------------------------------\u001b[0m",
      "\u001b[1;31mValueError\u001b[0m                                Traceback (most recent call last)",
      "Cell \u001b[1;32mIn [29], line 10\u001b[0m\n\u001b[0;32m      7\u001b[0m model\u001b[38;5;241m.\u001b[39mcompile(optimizer\u001b[38;5;241m=\u001b[39mopt, loss\u001b[38;5;241m=\u001b[39m\u001b[38;5;124m'\u001b[39m\u001b[38;5;124mmse\u001b[39m\u001b[38;5;124m'\u001b[39m, metrics\u001b[38;5;241m=\u001b[39m[\u001b[38;5;124m'\u001b[39m\u001b[38;5;124mmape\u001b[39m\u001b[38;5;124m'\u001b[39m])\n\u001b[0;32m      9\u001b[0m \u001b[38;5;66;03m# history = model.fit(inputs, targets, validation_split=0.2)\u001b[39;00m\n\u001b[1;32m---> 10\u001b[0m history \u001b[38;5;241m=\u001b[39m \u001b[43mmodel\u001b[49m\u001b[38;5;241;43m.\u001b[39;49m\u001b[43mfit\u001b[49m\u001b[43m(\u001b[49m\u001b[43mX_train\u001b[49m\u001b[43m,\u001b[49m\u001b[43m \u001b[49m\u001b[43my_train\u001b[49m\u001b[43m,\u001b[49m\u001b[43m \u001b[49m\u001b[43mvalidation_split\u001b[49m\u001b[38;5;241;43m=\u001b[39;49m\u001b[38;5;241;43m0.2\u001b[39;49m\u001b[43m)\u001b[49m\n",
      "File \u001b[1;32mD:\\code_tensorflow_playground\\tensorflow_playground\\01_coursera_getting_started_w_tf2\\venv\\lib\\site-packages\\keras\\utils\\traceback_utils.py:70\u001b[0m, in \u001b[0;36mfilter_traceback.<locals>.error_handler\u001b[1;34m(*args, **kwargs)\u001b[0m\n\u001b[0;32m     67\u001b[0m     filtered_tb \u001b[38;5;241m=\u001b[39m _process_traceback_frames(e\u001b[38;5;241m.\u001b[39m__traceback__)\n\u001b[0;32m     68\u001b[0m     \u001b[38;5;66;03m# To get the full stack trace, call:\u001b[39;00m\n\u001b[0;32m     69\u001b[0m     \u001b[38;5;66;03m# `tf.debugging.disable_traceback_filtering()`\u001b[39;00m\n\u001b[1;32m---> 70\u001b[0m     \u001b[38;5;28;01mraise\u001b[39;00m e\u001b[38;5;241m.\u001b[39mwith_traceback(filtered_tb) \u001b[38;5;28;01mfrom\u001b[39;00m \u001b[38;5;28mNone\u001b[39m\n\u001b[0;32m     71\u001b[0m \u001b[38;5;28;01mfinally\u001b[39;00m:\n\u001b[0;32m     72\u001b[0m     \u001b[38;5;28;01mdel\u001b[39;00m filtered_tb\n",
      "File \u001b[1;32m~\\AppData\\Local\\Temp\\__autograph_generated_filehni061as.py:15\u001b[0m, in \u001b[0;36mouter_factory.<locals>.inner_factory.<locals>.tf__train_function\u001b[1;34m(iterator)\u001b[0m\n\u001b[0;32m     13\u001b[0m \u001b[38;5;28;01mtry\u001b[39;00m:\n\u001b[0;32m     14\u001b[0m     do_return \u001b[38;5;241m=\u001b[39m \u001b[38;5;28;01mTrue\u001b[39;00m\n\u001b[1;32m---> 15\u001b[0m     retval_ \u001b[38;5;241m=\u001b[39m ag__\u001b[38;5;241m.\u001b[39mconverted_call(ag__\u001b[38;5;241m.\u001b[39mld(step_function), (ag__\u001b[38;5;241m.\u001b[39mld(\u001b[38;5;28mself\u001b[39m), ag__\u001b[38;5;241m.\u001b[39mld(iterator)), \u001b[38;5;28;01mNone\u001b[39;00m, fscope)\n\u001b[0;32m     16\u001b[0m \u001b[38;5;28;01mexcept\u001b[39;00m:\n\u001b[0;32m     17\u001b[0m     do_return \u001b[38;5;241m=\u001b[39m \u001b[38;5;28;01mFalse\u001b[39;00m\n",
      "\u001b[1;31mValueError\u001b[0m: in user code:\n\n    File \"D:\\code_tensorflow_playground\\tensorflow_playground\\01_coursera_getting_started_w_tf2\\venv\\lib\\site-packages\\keras\\engine\\training.py\", line 1160, in train_function  *\n        return step_function(self, iterator)\n    File \"D:\\code_tensorflow_playground\\tensorflow_playground\\01_coursera_getting_started_w_tf2\\venv\\lib\\site-packages\\keras\\engine\\training.py\", line 1146, in step_function  **\n        outputs = model.distribute_strategy.run(run_step, args=(data,))\n    File \"D:\\code_tensorflow_playground\\tensorflow_playground\\01_coursera_getting_started_w_tf2\\venv\\lib\\site-packages\\keras\\engine\\training.py\", line 1135, in run_step  **\n        outputs = model.train_step(data)\n    File \"D:\\code_tensorflow_playground\\tensorflow_playground\\01_coursera_getting_started_w_tf2\\venv\\lib\\site-packages\\keras\\engine\\training.py\", line 994, in train_step\n        loss = self.compute_loss(x, y, y_pred, sample_weight)\n    File \"D:\\code_tensorflow_playground\\tensorflow_playground\\01_coursera_getting_started_w_tf2\\venv\\lib\\site-packages\\keras\\engine\\training.py\", line 1052, in compute_loss\n        return self.compiled_loss(\n    File \"D:\\code_tensorflow_playground\\tensorflow_playground\\01_coursera_getting_started_w_tf2\\venv\\lib\\site-packages\\keras\\engine\\compile_utils.py\", line 265, in __call__\n        loss_value = loss_obj(y_t, y_p, sample_weight=sw)\n    File \"D:\\code_tensorflow_playground\\tensorflow_playground\\01_coursera_getting_started_w_tf2\\venv\\lib\\site-packages\\keras\\losses.py\", line 152, in __call__\n        losses = call_fn(y_true, y_pred)\n    File \"D:\\code_tensorflow_playground\\tensorflow_playground\\01_coursera_getting_started_w_tf2\\venv\\lib\\site-packages\\keras\\losses.py\", line 272, in call  **\n        return ag_fn(y_true, y_pred, **self._fn_kwargs)\n    File \"D:\\code_tensorflow_playground\\tensorflow_playground\\01_coursera_getting_started_w_tf2\\venv\\lib\\site-packages\\keras\\losses.py\", line 1486, in mean_squared_error\n        return backend.mean(tf.math.squared_difference(y_pred, y_true), axis=-1)\n\n    ValueError: Dimensions must be equal, but are 2 and 32 for '{{node mean_squared_error/SquaredDifference}} = SquaredDifference[T=DT_FLOAT](sequential_11/dense_15/BiasAdd, mean_squared_error/Cast)' with input shapes: [32,28,2], [32].\n"
     ]
    }
   ],
   "source": [
    "# create the model, compile and fit\n",
    "model = Sequential()\n",
    "model.add(Dense(128, activation='tanh'))\n",
    "model.add(Dense(2))\n",
    "\n",
    "opt = Adam(learning_rate=0.05)\n",
    "model.compile(optimizer=opt, loss='mse', metrics=['mape'])\n",
    "\n",
    "# history = model.fit(inputs, targets, validation_split=0.2)\n",
    "history = model.fit(X_train, y_train, validation_split=0.2)"
   ]
  },
  {
   "cell_type": "code",
   "execution_count": null,
   "id": "e446f2eb",
   "metadata": {},
   "outputs": [],
   "source": []
  },
  {
   "cell_type": "code",
   "execution_count": null,
   "id": "e98a57e9",
   "metadata": {},
   "outputs": [],
   "source": []
  }
 ],
 "metadata": {
  "kernelspec": {
   "display_name": "Python 3 (ipykernel)",
   "language": "python",
   "name": "python3"
  },
  "language_info": {
   "codemirror_mode": {
    "name": "ipython",
    "version": 3
   },
   "file_extension": ".py",
   "mimetype": "text/x-python",
   "name": "python",
   "nbconvert_exporter": "python",
   "pygments_lexer": "ipython3",
   "version": "3.9.12"
  }
 },
 "nbformat": 4,
 "nbformat_minor": 5
}
