{
 "cells": [
  {
   "cell_type": "markdown",
   "id": "1ab0fdcc",
   "metadata": {},
   "source": [
    "# Callbacks"
   ]
  },
  {
   "cell_type": "code",
   "execution_count": 3,
   "id": "c2d5a11f",
   "metadata": {},
   "outputs": [],
   "source": [
    "from tensorflow.keras.callbacks import Callback"
   ]
  },
  {
   "cell_type": "code",
   "execution_count": 4,
   "id": "d4070cda",
   "metadata": {},
   "outputs": [],
   "source": [
    "class TrainingCallbacks(Callback):\n",
    "    \n",
    "    def on_train_begin(self, logs=None):\n",
    "        print(\"Starting training...\")\n",
    "        \n",
    "    def on_epoch_begin(self, epoch, logs=None):\n",
    "        print(\"Starting epoch {}\".format(epoch))\n",
    "        \n",
    "    def on_train_batch_begin(self, batch, logs=None):\n",
    "        print(\"Training: starting batch {}\".format(batch))\n",
    "        \n",
    "    def on_train_batch_end(self, batch, logs=None):\n",
    "        print(\"Training: finished batch {}\".format(batch))\n",
    "        \n",
    "    def on_epoch_end(self, epoch, logs=None):\n",
    "        print(\"Finished epoch {}\".format(epoch))\n",
    "        \n",
    "    def on_train_end(self, logs=None):\n",
    "        print(\"Finished training!\")\n",
    "        "
   ]
  },
  {
   "cell_type": "code",
   "execution_count": 21,
   "id": "f9e6c6e3",
   "metadata": {},
   "outputs": [],
   "source": [
    "class TestingCallbacks(Callback):\n",
    "    \n",
    "    def on_test_begin(self, logs=None):\n",
    "        print(\"Starting testing...\")\n",
    "        \n",
    "    def on_test_batch_begin(self, batch, logs=None):\n",
    "        print(\"Testing: starting batch {}\".format(batch))\n",
    "        \n",
    "    def on_test_batch_end(self, batch, logs=None):\n",
    "        print(\"Testing: finished batch {}\".format(batch))\n",
    "        \n",
    "    def on_test_end(self, logs=None):\n",
    "        print(\"Finished testing!\")\n",
    "        "
   ]
  },
  {
   "cell_type": "code",
   "execution_count": 23,
   "id": "43bf59b7",
   "metadata": {},
   "outputs": [],
   "source": [
    "class PredictionCallbacks(Callback):\n",
    "    \n",
    "    def on_predict_begin(self, logs=None):\n",
    "        print(\"Starting prediction...\")\n",
    "        \n",
    "    def on_predict_batch_begin(self, batch, logs=None):\n",
    "        print(\"Prediction: starting batch {}\".format(batch))\n",
    "        \n",
    "    def on_predict_batch_end(self, batch, logs=None):\n",
    "        print(\"Prediction: finished batch {}\".format(batch))\n",
    "        \n",
    "    def on_predict_end(self, logs=None):\n",
    "        print(\"Finished prediction!\")"
   ]
  },
  {
   "cell_type": "markdown",
   "id": "a247e3c1",
   "metadata": {},
   "source": [
    "# Load Data\n",
    "see prior notebook for details"
   ]
  },
  {
   "cell_type": "code",
   "execution_count": 8,
   "id": "8d8d554b",
   "metadata": {},
   "outputs": [],
   "source": [
    "# Load the diabetes dataset\n",
    "from sklearn.datasets import load_diabetes\n",
    "diabetes_dataset = load_diabetes()"
   ]
  },
  {
   "cell_type": "code",
   "execution_count": 9,
   "id": "b079e4bc",
   "metadata": {},
   "outputs": [],
   "source": [
    "# save input and target variables\n",
    "data = diabetes_dataset['data']\n",
    "targets = diabetes_dataset['target']"
   ]
  },
  {
   "cell_type": "code",
   "execution_count": 10,
   "id": "56acfd99",
   "metadata": {},
   "outputs": [],
   "source": [
    "# normalize the target - this will make clearer training curves\n",
    "targets = (targets - targets.mean(axis=0)) / targets.std()"
   ]
  },
  {
   "cell_type": "code",
   "execution_count": 11,
   "id": "e9084c40",
   "metadata": {},
   "outputs": [],
   "source": [
    "# split into train and test\n",
    "from sklearn.model_selection import train_test_split\n",
    "train_data, test_data, train_targets, test_targets = train_test_split(data, targets, test_size=0.1)"
   ]
  },
  {
   "cell_type": "markdown",
   "id": "16f86300",
   "metadata": {},
   "source": [
    "# Build model"
   ]
  },
  {
   "cell_type": "code",
   "execution_count": 12,
   "id": "4a22a92a",
   "metadata": {},
   "outputs": [],
   "source": [
    "from tensorflow.keras.models import Sequential\n",
    "from tensorflow.keras.layers import Dense, Dropout\n",
    "from tensorflow.keras import regularizers"
   ]
  },
  {
   "cell_type": "code",
   "execution_count": 13,
   "id": "52162898",
   "metadata": {},
   "outputs": [
    {
     "name": "stdout",
     "output_type": "stream",
     "text": [
      "Model: \"sequential\"\n",
      "_________________________________________________________________\n",
      " Layer (type)                Output Shape              Param #   \n",
      "=================================================================\n",
      " dense (Dense)               (None, 128)               1408      \n",
      "                                                                 \n",
      " dropout (Dropout)           (None, 128)               0         \n",
      "                                                                 \n",
      " dense_1 (Dense)             (None, 128)               16512     \n",
      "                                                                 \n",
      " dropout_1 (Dropout)         (None, 128)               0         \n",
      "                                                                 \n",
      " dense_2 (Dense)             (None, 128)               16512     \n",
      "                                                                 \n",
      " dropout_2 (Dropout)         (None, 128)               0         \n",
      "                                                                 \n",
      " dense_3 (Dense)             (None, 128)               16512     \n",
      "                                                                 \n",
      " dropout_3 (Dropout)         (None, 128)               0         \n",
      "                                                                 \n",
      " dense_4 (Dense)             (None, 128)               16512     \n",
      "                                                                 \n",
      " dropout_4 (Dropout)         (None, 128)               0         \n",
      "                                                                 \n",
      " dense_5 (Dense)             (None, 128)               16512     \n",
      "                                                                 \n",
      " dense_6 (Dense)             (None, 1)                 129       \n",
      "                                                                 \n",
      "=================================================================\n",
      "Total params: 84,097\n",
      "Trainable params: 84,097\n",
      "Non-trainable params: 0\n",
      "_________________________________________________________________\n",
      "None\n"
     ]
    }
   ],
   "source": [
    "def get_regularised_model(wd, rate):\n",
    "    model = Sequential([\n",
    "        Dense(128, kernel_regularizer=regularizers.l2(wd), activation='relu', input_shape=(train_data.shape[1],)),\n",
    "        Dropout(rate),\n",
    "        Dense(128, kernel_regularizer=regularizers.l2(wd), activation='relu'),\n",
    "        Dropout(rate),\n",
    "        Dense(128, kernel_regularizer=regularizers.l2(wd), activation='relu'),\n",
    "        Dropout(rate),\n",
    "        Dense(128, kernel_regularizer=regularizers.l2(wd), activation='relu'),\n",
    "        Dropout(rate),\n",
    "        Dense(128, kernel_regularizer=regularizers.l2(wd), activation='relu'),\n",
    "        Dropout(rate),\n",
    "        Dense(128, kernel_regularizer=regularizers.l2(wd), activation='relu'),\n",
    "        Dense(1)\n",
    "    ])\n",
    "    return model\n",
    "\n",
    "model = get_regularised_model(1e-5, 0.3)\n",
    "print(model.summary())"
   ]
  },
  {
   "cell_type": "code",
   "execution_count": 14,
   "id": "a2a3b390",
   "metadata": {},
   "outputs": [],
   "source": [
    "# Compile the model\n",
    "model.compile(optimizer='adam', loss='mse')"
   ]
  },
  {
   "cell_type": "code",
   "execution_count": 17,
   "id": "15011898",
   "metadata": {},
   "outputs": [
    {
     "name": "stdout",
     "output_type": "stream",
     "text": [
      "Starting training...\n",
      "Starting epoch 0\n",
      "Training: starting batch 0\n",
      "Training: finished batch 0\n",
      "Training: starting batch 1\n",
      "Training: finished batch 1\n",
      "Training: starting batch 2\n",
      "Training: finished batch 2\n",
      "Finished epoch 0\n",
      "Starting epoch 1\n",
      "Training: starting batch 0\n",
      "Training: finished batch 0\n",
      "Training: starting batch 1\n",
      "Training: finished batch 1\n",
      "Training: starting batch 2\n",
      "Training: finished batch 2\n",
      "Finished epoch 1\n",
      "Starting epoch 2\n",
      "Training: starting batch 0\n",
      "Training: finished batch 0\n",
      "Training: starting batch 1\n",
      "Training: finished batch 1\n",
      "Training: starting batch 2\n",
      "Training: finished batch 2\n",
      "Finished epoch 2\n",
      "Finished training!\n"
     ]
    }
   ],
   "source": [
    "# Fit the model\n",
    "history = model.fit(train_data, train_targets, epochs=3,\n",
    "                    validation_split=0.15,\n",
    "                    batch_size=128,\n",
    "                    verbose=False, callbacks=[TrainingCallbacks()])\n"
   ]
  },
  {
   "cell_type": "code",
   "execution_count": 22,
   "id": "a1fc1d94",
   "metadata": {},
   "outputs": [
    {
     "name": "stdout",
     "output_type": "stream",
     "text": [
      "Starting testing...\n",
      "Testing: starting batch 0\n",
      "Testing: finished batch 0\n",
      "Testing: starting batch 1\n",
      "Testing: finished batch 1\n",
      "Finished testing!\n"
     ]
    },
    {
     "data": {
      "text/plain": [
       "0.8266880512237549"
      ]
     },
     "execution_count": 22,
     "metadata": {},
     "output_type": "execute_result"
    }
   ],
   "source": [
    "# Evaluate the model\n",
    "model.evaluate(test_data, test_targets, verbose=False, callbacks=[TestingCallbacks()])"
   ]
  },
  {
   "cell_type": "code",
   "execution_count": 24,
   "id": "095fb747",
   "metadata": {},
   "outputs": [
    {
     "name": "stdout",
     "output_type": "stream",
     "text": [
      "Starting prediction...\n",
      "Prediction: starting batch 0\n",
      "Prediction: finished batch 0\n",
      "Prediction: starting batch 1\n",
      "Prediction: finished batch 1\n",
      "Finished prediction!\n"
     ]
    },
    {
     "data": {
      "text/plain": [
       "array([[ 4.07253765e-02],\n",
       "       [-1.05053045e-01],\n",
       "       [ 6.66157752e-02],\n",
       "       [ 7.07859546e-02],\n",
       "       [ 6.24022149e-02],\n",
       "       [-1.03902839e-01],\n",
       "       [ 4.40230332e-02],\n",
       "       [-1.21345617e-01],\n",
       "       [-1.32044375e-01],\n",
       "       [-8.51841569e-02],\n",
       "       [ 4.04332429e-02],\n",
       "       [-8.03829208e-02],\n",
       "       [-4.52427194e-02],\n",
       "       [-1.13792896e-01],\n",
       "       [-1.36866853e-01],\n",
       "       [-5.28050736e-02],\n",
       "       [ 5.19012623e-02],\n",
       "       [-2.56833155e-05],\n",
       "       [ 7.39888772e-02],\n",
       "       [ 5.30238450e-02],\n",
       "       [ 3.49869318e-02],\n",
       "       [-1.30632609e-01],\n",
       "       [-9.49403867e-02],\n",
       "       [ 7.75758848e-02],\n",
       "       [-1.29723269e-02],\n",
       "       [-1.03824347e-01],\n",
       "       [ 5.74154146e-02],\n",
       "       [-3.45115513e-02],\n",
       "       [-1.16357423e-01],\n",
       "       [-8.40179399e-02],\n",
       "       [-1.12803392e-01],\n",
       "       [-1.18969254e-01],\n",
       "       [-3.17753591e-02],\n",
       "       [-1.39830217e-01],\n",
       "       [ 6.62439987e-02],\n",
       "       [ 7.70020485e-02],\n",
       "       [-9.24452245e-02],\n",
       "       [-1.23215333e-01],\n",
       "       [ 1.48883769e-02],\n",
       "       [ 9.39230844e-02],\n",
       "       [ 6.35755062e-02],\n",
       "       [-8.28755647e-02],\n",
       "       [ 8.15517157e-02],\n",
       "       [-4.86430079e-02],\n",
       "       [ 7.69294053e-02]], dtype=float32)"
      ]
     },
     "execution_count": 24,
     "metadata": {},
     "output_type": "execute_result"
    }
   ],
   "source": [
    "model.predict(test_data, verbose=False,\n",
    "              callbacks=[PredictionCallbacks()])\n"
   ]
  },
  {
   "cell_type": "code",
   "execution_count": null,
   "id": "35d0e246",
   "metadata": {},
   "outputs": [],
   "source": []
  }
 ],
 "metadata": {
  "kernelspec": {
   "display_name": "Python 3 (ipykernel)",
   "language": "python",
   "name": "python3"
  },
  "language_info": {
   "codemirror_mode": {
    "name": "ipython",
    "version": 3
   },
   "file_extension": ".py",
   "mimetype": "text/x-python",
   "name": "python",
   "nbconvert_exporter": "python",
   "pygments_lexer": "ipython3",
   "version": "3.9.12"
  }
 },
 "nbformat": 4,
 "nbformat_minor": 5
}
