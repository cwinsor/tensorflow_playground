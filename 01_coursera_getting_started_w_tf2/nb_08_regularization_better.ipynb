{
 "cells": [
  {
   "cell_type": "markdown",
   "id": "1ab0fdcc",
   "metadata": {},
   "source": [
    "# Regularisation"
   ]
  },
  {
   "cell_type": "markdown",
   "id": "4db2faf5",
   "metadata": {},
   "source": [
    "# Load Data\n",
    "see prior notebook for details"
   ]
  },
  {
   "cell_type": "code",
   "execution_count": 23,
   "id": "1df1d296",
   "metadata": {},
   "outputs": [],
   "source": [
    "# Load the diabetes dataset\n",
    "from sklearn.datasets import load_diabetes\n",
    "diabetes_dataset = load_diabetes()"
   ]
  },
  {
   "cell_type": "code",
   "execution_count": 24,
   "id": "a3eb3dba",
   "metadata": {},
   "outputs": [],
   "source": [
    "# save input and target variables\n",
    "data = diabetes_dataset['data']\n",
    "targets = diabetes_dataset['target']"
   ]
  },
  {
   "cell_type": "code",
   "execution_count": 25,
   "id": "2959b6aa",
   "metadata": {},
   "outputs": [],
   "source": [
    "# normalize the target - this will make clearer training curves\n",
    "targets = (targets - targets.mean(axis=0)) / targets.std()"
   ]
  },
  {
   "cell_type": "code",
   "execution_count": 26,
   "id": "dfb835ba",
   "metadata": {},
   "outputs": [],
   "source": [
    "# split into train and test\n",
    "from sklearn.model_selection import train_test_split\n",
    "train_data, test_data, train_targets, test_targets = train_test_split(data, targets, test_size=0.1)"
   ]
  },
  {
   "cell_type": "code",
   "execution_count": 27,
   "id": "c2d5a11f",
   "metadata": {},
   "outputs": [],
   "source": [
    "from tensorflow.keras.models import Sequential\n",
    "from tensorflow.keras.layers import Dense, Dropout\n",
    "from tensorflow.keras import regularizers"
   ]
  },
  {
   "cell_type": "code",
   "execution_count": 28,
   "id": "f348eaea",
   "metadata": {},
   "outputs": [
    {
     "name": "stdout",
     "output_type": "stream",
     "text": [
      "Model: \"sequential_2\"\n",
      "_________________________________________________________________\n",
      " Layer (type)                Output Shape              Param #   \n",
      "=================================================================\n",
      " dense_10 (Dense)            (None, 128)               1408      \n",
      "                                                                 \n",
      " dropout_6 (Dropout)         (None, 128)               0         \n",
      "                                                                 \n",
      " dense_11 (Dense)            (None, 128)               16512     \n",
      "                                                                 \n",
      " dropout_7 (Dropout)         (None, 128)               0         \n",
      "                                                                 \n",
      " dense_12 (Dense)            (None, 128)               16512     \n",
      "                                                                 \n",
      " dropout_8 (Dropout)         (None, 128)               0         \n",
      "                                                                 \n",
      " dense_13 (Dense)            (None, 128)               16512     \n",
      "                                                                 \n",
      " dropout_9 (Dropout)         (None, 128)               0         \n",
      "                                                                 \n",
      " dense_14 (Dense)            (None, 128)               16512     \n",
      "                                                                 \n",
      " dropout_10 (Dropout)        (None, 128)               0         \n",
      "                                                                 \n",
      " dense_15 (Dense)            (None, 128)               16512     \n",
      "                                                                 \n",
      " dense_16 (Dense)            (None, 1)                 129       \n",
      "                                                                 \n",
      "=================================================================\n",
      "Total params: 84,097\n",
      "Trainable params: 84,097\n",
      "Non-trainable params: 0\n",
      "_________________________________________________________________\n",
      "None\n"
     ]
    }
   ],
   "source": [
    "def get_regularised_model(wd, rate):\n",
    "    model = Sequential([\n",
    "        Dense(128, kernel_regularizer=regularizers.l2(wd), activation='relu', input_shape=(train_data.shape[1],)),\n",
    "        Dropout(rate),\n",
    "        Dense(128, kernel_regularizer=regularizers.l2(wd), activation='relu'),\n",
    "        Dropout(rate),\n",
    "        Dense(128, kernel_regularizer=regularizers.l2(wd), activation='relu'),\n",
    "        Dropout(rate),\n",
    "        Dense(128, kernel_regularizer=regularizers.l2(wd), activation='relu'),\n",
    "        Dropout(rate),\n",
    "        Dense(128, kernel_regularizer=regularizers.l2(wd), activation='relu'),\n",
    "        Dropout(rate),\n",
    "        Dense(128, kernel_regularizer=regularizers.l2(wd), activation='relu'),\n",
    "        Dense(1)\n",
    "    ])\n",
    "    return model\n",
    "\n",
    "model = get_regularised_model(1e-5, 0.3)\n",
    "print(model.summary())"
   ]
  },
  {
   "cell_type": "code",
   "execution_count": 29,
   "id": "c7a4c995",
   "metadata": {},
   "outputs": [],
   "source": [
    "# Compile the model\n",
    "model.compile(optimizer='adam', loss='mse', metrics=['mae'])"
   ]
  },
  {
   "cell_type": "code",
   "execution_count": 30,
   "id": "4303b63a",
   "metadata": {},
   "outputs": [
    {
     "name": "stdout",
     "output_type": "stream",
     "text": [
      "Epoch 1/100\n",
      "6/6 [==============================] - 1s 28ms/step - loss: 0.9755 - mae: 0.8389 - val_loss: 1.1268 - val_mae: 0.9316\n",
      "Epoch 2/100\n",
      "6/6 [==============================] - 0s 12ms/step - loss: 0.9653 - mae: 0.8316 - val_loss: 1.0837 - val_mae: 0.9101\n",
      "Epoch 3/100\n",
      "6/6 [==============================] - 0s 12ms/step - loss: 0.9308 - mae: 0.8117 - val_loss: 0.9468 - val_mae: 0.8457\n",
      "Epoch 4/100\n",
      "6/6 [==============================] - 0s 12ms/step - loss: 0.8342 - mae: 0.7612 - val_loss: 0.7043 - val_mae: 0.7089\n",
      "Epoch 5/100\n",
      "6/6 [==============================] - 0s 12ms/step - loss: 0.6949 - mae: 0.6982 - val_loss: 0.4860 - val_mae: 0.5514\n",
      "Epoch 6/100\n",
      "6/6 [==============================] - 0s 12ms/step - loss: 0.6202 - mae: 0.6423 - val_loss: 0.4353 - val_mae: 0.5100\n",
      "Epoch 7/100\n",
      "6/6 [==============================] - 0s 12ms/step - loss: 0.5923 - mae: 0.6242 - val_loss: 0.4195 - val_mae: 0.5224\n",
      "Epoch 8/100\n",
      "6/6 [==============================] - 0s 12ms/step - loss: 0.5838 - mae: 0.6251 - val_loss: 0.4091 - val_mae: 0.5330\n",
      "Epoch 9/100\n",
      "6/6 [==============================] - 0s 12ms/step - loss: 0.6015 - mae: 0.6425 - val_loss: 0.3940 - val_mae: 0.5150\n",
      "Epoch 10/100\n",
      "6/6 [==============================] - 0s 12ms/step - loss: 0.6099 - mae: 0.6245 - val_loss: 0.4049 - val_mae: 0.5334\n",
      "Epoch 11/100\n",
      "6/6 [==============================] - 0s 12ms/step - loss: 0.5698 - mae: 0.6208 - val_loss: 0.4448 - val_mae: 0.5739\n",
      "Epoch 12/100\n",
      "6/6 [==============================] - 0s 11ms/step - loss: 0.6045 - mae: 0.6355 - val_loss: 0.4475 - val_mae: 0.5343\n",
      "Epoch 13/100\n",
      "6/6 [==============================] - 0s 10ms/step - loss: 0.5885 - mae: 0.6295 - val_loss: 0.4146 - val_mae: 0.5362\n",
      "Epoch 14/100\n",
      "6/6 [==============================] - 0s 10ms/step - loss: 0.5476 - mae: 0.6117 - val_loss: 0.3990 - val_mae: 0.5286\n",
      "Epoch 15/100\n",
      "6/6 [==============================] - 0s 10ms/step - loss: 0.5384 - mae: 0.5906 - val_loss: 0.3963 - val_mae: 0.5292\n",
      "Epoch 16/100\n",
      "6/6 [==============================] - 0s 10ms/step - loss: 0.5100 - mae: 0.5707 - val_loss: 0.3952 - val_mae: 0.5276\n",
      "Epoch 17/100\n",
      "6/6 [==============================] - 0s 10ms/step - loss: 0.5561 - mae: 0.6113 - val_loss: 0.4236 - val_mae: 0.5605\n",
      "Epoch 18/100\n",
      "6/6 [==============================] - 0s 10ms/step - loss: 0.5186 - mae: 0.5839 - val_loss: 0.4009 - val_mae: 0.5281\n",
      "Epoch 19/100\n",
      "6/6 [==============================] - 0s 10ms/step - loss: 0.5202 - mae: 0.5808 - val_loss: 0.4009 - val_mae: 0.5339\n",
      "Epoch 20/100\n",
      "6/6 [==============================] - 0s 10ms/step - loss: 0.5276 - mae: 0.5927 - val_loss: 0.4200 - val_mae: 0.5545\n",
      "Epoch 21/100\n",
      "6/6 [==============================] - 0s 10ms/step - loss: 0.5231 - mae: 0.6009 - val_loss: 0.4127 - val_mae: 0.5462\n",
      "Epoch 22/100\n",
      "6/6 [==============================] - 0s 10ms/step - loss: 0.5185 - mae: 0.5806 - val_loss: 0.3969 - val_mae: 0.5187\n",
      "Epoch 23/100\n",
      "6/6 [==============================] - 0s 10ms/step - loss: 0.4930 - mae: 0.5641 - val_loss: 0.4287 - val_mae: 0.5567\n",
      "Epoch 24/100\n",
      "6/6 [==============================] - 0s 10ms/step - loss: 0.4985 - mae: 0.5651 - val_loss: 0.3979 - val_mae: 0.5296\n",
      "Epoch 25/100\n",
      "6/6 [==============================] - 0s 10ms/step - loss: 0.5104 - mae: 0.5760 - val_loss: 0.3964 - val_mae: 0.5311\n",
      "Epoch 26/100\n",
      "6/6 [==============================] - 0s 10ms/step - loss: 0.5241 - mae: 0.5877 - val_loss: 0.4144 - val_mae: 0.5478\n",
      "Epoch 27/100\n",
      "6/6 [==============================] - 0s 10ms/step - loss: 0.5014 - mae: 0.5757 - val_loss: 0.3930 - val_mae: 0.5262\n",
      "Epoch 28/100\n",
      "6/6 [==============================] - 0s 10ms/step - loss: 0.4877 - mae: 0.5628 - val_loss: 0.3877 - val_mae: 0.5225\n",
      "Epoch 29/100\n",
      "6/6 [==============================] - 0s 10ms/step - loss: 0.5014 - mae: 0.5662 - val_loss: 0.4050 - val_mae: 0.5401\n",
      "Epoch 30/100\n",
      "6/6 [==============================] - 0s 11ms/step - loss: 0.5030 - mae: 0.5765 - val_loss: 0.3991 - val_mae: 0.5283\n",
      "Epoch 31/100\n",
      "6/6 [==============================] - 0s 10ms/step - loss: 0.5108 - mae: 0.5726 - val_loss: 0.3888 - val_mae: 0.5124\n",
      "Epoch 32/100\n",
      "6/6 [==============================] - 0s 10ms/step - loss: 0.4763 - mae: 0.5586 - val_loss: 0.4070 - val_mae: 0.5408\n",
      "Epoch 33/100\n",
      "6/6 [==============================] - 0s 10ms/step - loss: 0.4940 - mae: 0.5682 - val_loss: 0.3943 - val_mae: 0.5253\n",
      "Epoch 34/100\n",
      "6/6 [==============================] - 0s 11ms/step - loss: 0.4971 - mae: 0.5637 - val_loss: 0.4095 - val_mae: 0.5406\n",
      "Epoch 35/100\n",
      "6/6 [==============================] - 0s 10ms/step - loss: 0.4790 - mae: 0.5535 - val_loss: 0.4502 - val_mae: 0.5621\n",
      "Epoch 36/100\n",
      "6/6 [==============================] - 0s 10ms/step - loss: 0.4894 - mae: 0.5675 - val_loss: 0.4012 - val_mae: 0.5249\n",
      "Epoch 37/100\n",
      "6/6 [==============================] - 0s 10ms/step - loss: 0.5197 - mae: 0.5771 - val_loss: 0.4176 - val_mae: 0.5388\n",
      "Epoch 38/100\n",
      "6/6 [==============================] - 0s 11ms/step - loss: 0.4902 - mae: 0.5725 - val_loss: 0.4952 - val_mae: 0.6032\n",
      "Epoch 39/100\n",
      "6/6 [==============================] - 0s 10ms/step - loss: 0.5055 - mae: 0.5839 - val_loss: 0.4100 - val_mae: 0.5358\n",
      "Epoch 40/100\n",
      "6/6 [==============================] - 0s 10ms/step - loss: 0.5203 - mae: 0.5656 - val_loss: 0.4139 - val_mae: 0.5391\n",
      "Epoch 41/100\n",
      "6/6 [==============================] - 0s 10ms/step - loss: 0.4754 - mae: 0.5695 - val_loss: 0.4595 - val_mae: 0.5794\n",
      "Epoch 42/100\n",
      "6/6 [==============================] - 0s 10ms/step - loss: 0.4693 - mae: 0.5630 - val_loss: 0.4163 - val_mae: 0.5343\n",
      "Epoch 43/100\n",
      "6/6 [==============================] - 0s 10ms/step - loss: 0.4985 - mae: 0.5686 - val_loss: 0.4174 - val_mae: 0.5418\n",
      "Epoch 44/100\n",
      "6/6 [==============================] - 0s 10ms/step - loss: 0.4667 - mae: 0.5483 - val_loss: 0.4179 - val_mae: 0.5460\n",
      "Epoch 45/100\n",
      "6/6 [==============================] - 0s 10ms/step - loss: 0.4599 - mae: 0.5463 - val_loss: 0.4102 - val_mae: 0.5376\n",
      "Epoch 46/100\n",
      "6/6 [==============================] - 0s 11ms/step - loss: 0.4581 - mae: 0.5397 - val_loss: 0.4127 - val_mae: 0.5323\n",
      "Epoch 47/100\n",
      "6/6 [==============================] - 0s 11ms/step - loss: 0.4550 - mae: 0.5388 - val_loss: 0.4136 - val_mae: 0.5364\n",
      "Epoch 48/100\n",
      "6/6 [==============================] - 0s 10ms/step - loss: 0.4759 - mae: 0.5555 - val_loss: 0.3971 - val_mae: 0.5248\n",
      "Epoch 49/100\n",
      "6/6 [==============================] - 0s 10ms/step - loss: 0.4551 - mae: 0.5435 - val_loss: 0.4319 - val_mae: 0.5569\n",
      "Epoch 50/100\n",
      "6/6 [==============================] - 0s 10ms/step - loss: 0.4338 - mae: 0.5420 - val_loss: 0.4185 - val_mae: 0.5427\n",
      "Epoch 51/100\n",
      "6/6 [==============================] - 0s 10ms/step - loss: 0.4519 - mae: 0.5371 - val_loss: 0.4014 - val_mae: 0.5275\n",
      "Epoch 52/100\n",
      "6/6 [==============================] - 0s 10ms/step - loss: 0.4400 - mae: 0.5277 - val_loss: 0.4117 - val_mae: 0.5436\n",
      "Epoch 53/100\n",
      "6/6 [==============================] - 0s 10ms/step - loss: 0.4368 - mae: 0.5302 - val_loss: 0.4140 - val_mae: 0.5481\n",
      "Epoch 54/100\n",
      "6/6 [==============================] - 0s 10ms/step - loss: 0.4118 - mae: 0.5070 - val_loss: 0.4338 - val_mae: 0.5508\n",
      "Epoch 55/100\n",
      "6/6 [==============================] - 0s 10ms/step - loss: 0.4489 - mae: 0.5390 - val_loss: 0.4343 - val_mae: 0.5536\n",
      "Epoch 56/100\n",
      "6/6 [==============================] - 0s 10ms/step - loss: 0.4164 - mae: 0.5133 - val_loss: 0.4080 - val_mae: 0.5378\n",
      "Epoch 57/100\n",
      "6/6 [==============================] - 0s 10ms/step - loss: 0.4362 - mae: 0.5287 - val_loss: 0.4243 - val_mae: 0.5490\n",
      "Epoch 58/100\n",
      "6/6 [==============================] - 0s 10ms/step - loss: 0.4312 - mae: 0.5143 - val_loss: 0.4104 - val_mae: 0.5449\n",
      "Epoch 59/100\n",
      "6/6 [==============================] - 0s 10ms/step - loss: 0.4376 - mae: 0.5161 - val_loss: 0.4324 - val_mae: 0.5553\n",
      "Epoch 60/100\n",
      "6/6 [==============================] - 0s 10ms/step - loss: 0.4602 - mae: 0.5396 - val_loss: 0.4239 - val_mae: 0.5475\n",
      "Epoch 61/100\n",
      "6/6 [==============================] - 0s 10ms/step - loss: 0.4031 - mae: 0.5004 - val_loss: 0.4240 - val_mae: 0.5463\n",
      "Epoch 62/100\n",
      "6/6 [==============================] - 0s 10ms/step - loss: 0.4349 - mae: 0.5218 - val_loss: 0.4251 - val_mae: 0.5546\n",
      "Epoch 63/100\n"
     ]
    },
    {
     "name": "stdout",
     "output_type": "stream",
     "text": [
      "6/6 [==============================] - 0s 11ms/step - loss: 0.4178 - mae: 0.5000 - val_loss: 0.4527 - val_mae: 0.5641\n",
      "Epoch 64/100\n",
      "6/6 [==============================] - 0s 10ms/step - loss: 0.4276 - mae: 0.5234 - val_loss: 0.4185 - val_mae: 0.5464\n",
      "Epoch 65/100\n",
      "6/6 [==============================] - 0s 10ms/step - loss: 0.3974 - mae: 0.4895 - val_loss: 0.4295 - val_mae: 0.5377\n",
      "Epoch 66/100\n",
      "6/6 [==============================] - 0s 10ms/step - loss: 0.4413 - mae: 0.5288 - val_loss: 0.4360 - val_mae: 0.5563\n",
      "Epoch 67/100\n",
      "6/6 [==============================] - 0s 10ms/step - loss: 0.4217 - mae: 0.5154 - val_loss: 0.4215 - val_mae: 0.5478\n",
      "Epoch 68/100\n",
      "6/6 [==============================] - 0s 10ms/step - loss: 0.4298 - mae: 0.5144 - val_loss: 0.4180 - val_mae: 0.5400\n",
      "Epoch 69/100\n",
      "6/6 [==============================] - 0s 10ms/step - loss: 0.4067 - mae: 0.5089 - val_loss: 0.4316 - val_mae: 0.5489\n",
      "Epoch 70/100\n",
      "6/6 [==============================] - 0s 10ms/step - loss: 0.4097 - mae: 0.5106 - val_loss: 0.4549 - val_mae: 0.5635\n",
      "Epoch 71/100\n",
      "6/6 [==============================] - 0s 10ms/step - loss: 0.4263 - mae: 0.5133 - val_loss: 0.4366 - val_mae: 0.5434\n",
      "Epoch 72/100\n",
      "6/6 [==============================] - 0s 10ms/step - loss: 0.4108 - mae: 0.5002 - val_loss: 0.4412 - val_mae: 0.5596\n",
      "Epoch 73/100\n",
      "6/6 [==============================] - 0s 10ms/step - loss: 0.4056 - mae: 0.5181 - val_loss: 0.4547 - val_mae: 0.5733\n",
      "Epoch 74/100\n",
      "6/6 [==============================] - 0s 10ms/step - loss: 0.4197 - mae: 0.5206 - val_loss: 0.4379 - val_mae: 0.5464\n",
      "Epoch 75/100\n",
      "6/6 [==============================] - 0s 10ms/step - loss: 0.4110 - mae: 0.4992 - val_loss: 0.4675 - val_mae: 0.5671\n",
      "Epoch 76/100\n",
      "6/6 [==============================] - 0s 10ms/step - loss: 0.3857 - mae: 0.4929 - val_loss: 0.4685 - val_mae: 0.5836\n",
      "Epoch 77/100\n",
      "6/6 [==============================] - 0s 10ms/step - loss: 0.4035 - mae: 0.5077 - val_loss: 0.4472 - val_mae: 0.5668\n",
      "Epoch 78/100\n",
      "6/6 [==============================] - 0s 10ms/step - loss: 0.4087 - mae: 0.5115 - val_loss: 0.4648 - val_mae: 0.5600\n",
      "Epoch 79/100\n",
      "6/6 [==============================] - 0s 10ms/step - loss: 0.4119 - mae: 0.4972 - val_loss: 0.4507 - val_mae: 0.5512\n",
      "Epoch 80/100\n",
      "6/6 [==============================] - 0s 10ms/step - loss: 0.3953 - mae: 0.5040 - val_loss: 0.4720 - val_mae: 0.5810\n",
      "Epoch 81/100\n",
      "6/6 [==============================] - 0s 10ms/step - loss: 0.3955 - mae: 0.5034 - val_loss: 0.4430 - val_mae: 0.5670\n",
      "Epoch 82/100\n",
      "6/6 [==============================] - 0s 10ms/step - loss: 0.4100 - mae: 0.5072 - val_loss: 0.4396 - val_mae: 0.5559\n",
      "Epoch 83/100\n",
      "6/6 [==============================] - 0s 10ms/step - loss: 0.4178 - mae: 0.5047 - val_loss: 0.4847 - val_mae: 0.5859\n",
      "Epoch 84/100\n",
      "6/6 [==============================] - 0s 10ms/step - loss: 0.3962 - mae: 0.4997 - val_loss: 0.4403 - val_mae: 0.5569\n",
      "Epoch 85/100\n",
      "6/6 [==============================] - 0s 10ms/step - loss: 0.3780 - mae: 0.4859 - val_loss: 0.4961 - val_mae: 0.5973\n",
      "Epoch 86/100\n",
      "6/6 [==============================] - 0s 10ms/step - loss: 0.4059 - mae: 0.5034 - val_loss: 0.4356 - val_mae: 0.5478\n",
      "Epoch 87/100\n",
      "6/6 [==============================] - 0s 10ms/step - loss: 0.3995 - mae: 0.4963 - val_loss: 0.4606 - val_mae: 0.5684\n",
      "Epoch 88/100\n",
      "6/6 [==============================] - 0s 10ms/step - loss: 0.3698 - mae: 0.4780 - val_loss: 0.4827 - val_mae: 0.5883\n",
      "Epoch 89/100\n",
      "6/6 [==============================] - 0s 10ms/step - loss: 0.3953 - mae: 0.5000 - val_loss: 0.4682 - val_mae: 0.5660\n",
      "Epoch 90/100\n",
      "6/6 [==============================] - 0s 10ms/step - loss: 0.3643 - mae: 0.4715 - val_loss: 0.4739 - val_mae: 0.5711\n",
      "Epoch 91/100\n",
      "6/6 [==============================] - 0s 10ms/step - loss: 0.3905 - mae: 0.4865 - val_loss: 0.4541 - val_mae: 0.5595\n",
      "Epoch 92/100\n",
      "6/6 [==============================] - 0s 10ms/step - loss: 0.3986 - mae: 0.4927 - val_loss: 0.4491 - val_mae: 0.5568\n",
      "Epoch 93/100\n",
      "6/6 [==============================] - 0s 10ms/step - loss: 0.3932 - mae: 0.5022 - val_loss: 0.4779 - val_mae: 0.5762\n",
      "Epoch 94/100\n",
      "6/6 [==============================] - 0s 10ms/step - loss: 0.3685 - mae: 0.4802 - val_loss: 0.4363 - val_mae: 0.5478\n",
      "Epoch 95/100\n",
      "6/6 [==============================] - 0s 10ms/step - loss: 0.3577 - mae: 0.4670 - val_loss: 0.4841 - val_mae: 0.5679\n",
      "Epoch 96/100\n",
      "6/6 [==============================] - 0s 10ms/step - loss: 0.3896 - mae: 0.4875 - val_loss: 0.4448 - val_mae: 0.5535\n",
      "Epoch 97/100\n",
      "6/6 [==============================] - 0s 10ms/step - loss: 0.3654 - mae: 0.4739 - val_loss: 0.4702 - val_mae: 0.5621\n",
      "Epoch 98/100\n",
      "6/6 [==============================] - 0s 10ms/step - loss: 0.3639 - mae: 0.4839 - val_loss: 0.4722 - val_mae: 0.5676\n",
      "Epoch 99/100\n",
      "6/6 [==============================] - 0s 10ms/step - loss: 0.3673 - mae: 0.4874 - val_loss: 0.4679 - val_mae: 0.5660\n",
      "Epoch 100/100\n",
      "6/6 [==============================] - 0s 10ms/step - loss: 0.3880 - mae: 0.4866 - val_loss: 0.4788 - val_mae: 0.5773\n"
     ]
    }
   ],
   "source": [
    "# Fit the model\n",
    "history = model.fit(train_data, train_targets, epochs=100,\n",
    "                   validation_split=0.15, batch_size=64, verbose=True)"
   ]
  },
  {
   "cell_type": "code",
   "execution_count": 31,
   "id": "997dff7a",
   "metadata": {},
   "outputs": [
    {
     "name": "stdout",
     "output_type": "stream",
     "text": [
      "2/2 - 0s - loss: 0.6327 - mae: 0.6110 - 17ms/epoch - 8ms/step\n"
     ]
    },
    {
     "data": {
      "text/plain": [
       "[0.6326959133148193, 0.6110324263572693]"
      ]
     },
     "execution_count": 31,
     "metadata": {},
     "output_type": "execute_result"
    }
   ],
   "source": [
    "# Evaluate the model on the test set\n",
    "model.evaluate(test_data, test_targets,verbose=2)"
   ]
  },
  {
   "cell_type": "markdown",
   "id": "c412a09a",
   "metadata": {},
   "source": [
    "### Plot the learning curves"
   ]
  },
  {
   "cell_type": "code",
   "execution_count": 32,
   "id": "7a4844d4",
   "metadata": {},
   "outputs": [],
   "source": [
    "import matplotlib.pyplot as plt\n",
    "%matplotlib inline"
   ]
  },
  {
   "cell_type": "code",
   "execution_count": 33,
   "id": "559b3d8a",
   "metadata": {},
   "outputs": [
    {
     "data": {
      "image/png": "[encoded data removed]",
      "text/plain": [
       "<Figure size 640x480 with 1 Axes>"
      ]
     },
     "metadata": {},
     "output_type": "display_data"
    }
   ],
   "source": [
    "# Plot the training and validation loss\n",
    "\n",
    "plt.plot(history.history['loss'])\n",
    "plt.plot(history.history['val_loss'])\n",
    "plt.title('Loss vs. epochs')\n",
    "plt.ylabel('Loss')\n",
    "plt.xlabel('Epoch')\n",
    "plt.legend(['Training', 'Validation'], loc='upper right')\n",
    "plt.show()"
   ]
  },
  {
   "cell_type": "code",
   "execution_count": null,
   "id": "ed54c586",
   "metadata": {},
   "outputs": [],
   "source": []
  }
 ],
 "metadata": {
  "kernelspec": {
   "display_name": "Python 3 (ipykernel)",
   "language": "python",
   "name": "python3"
  },
  "language_info": {
   "codemirror_mode": {
    "name": "ipython",
    "version": 3
   },
   "file_extension": ".py",
   "mimetype": "text/x-python",
   "name": "python",
   "nbconvert_exporter": "python",
   "pygments_lexer": "ipython3",
   "version": "3.9.12"
  }
 },
 "nbformat": 4,
 "nbformat_minor": 5
}
