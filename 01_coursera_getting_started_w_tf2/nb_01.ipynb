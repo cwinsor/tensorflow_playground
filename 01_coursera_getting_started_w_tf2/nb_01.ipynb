{
 "cells": [
  {
   "cell_type": "code",
   "execution_count": 1,
   "id": "e2286e5b",
   "metadata": {},
   "outputs": [],
   "source": [
    "from tensorflow.keras.models import Sequential\n",
    "from tensorflow.keras.layers import Flatten, Dense, Conv2D, MaxPooling2D"
   ]
  },
  {
   "cell_type": "code",
   "execution_count": 2,
   "id": "47b8bab6",
   "metadata": {},
   "outputs": [],
   "source": [
    "# model.weights"
   ]
  },
  {
   "cell_type": "markdown",
   "id": "6e05e2c6",
   "metadata": {},
   "source": [
    "# Conv2D"
   ]
  },
  {
   "cell_type": "code",
   "execution_count": 3,
   "id": "6f86dbc8",
   "metadata": {},
   "outputs": [
    {
     "name": "stdout",
     "output_type": "stream",
     "text": [
      "Model: \"sequential\"\n",
      "_________________________________________________________________\n",
      " Layer (type)                Output Shape              Param #   \n",
      "=================================================================\n",
      " conv2d (Conv2D)             (None, 11, 11, 17)        323       \n",
      "                                                                 \n",
      " max_pooling2d (MaxPooling2D  (None, 3, 3, 17)         0         \n",
      " )                                                               \n",
      "                                                                 \n",
      " flatten (Flatten)           (None, 153)               0         \n",
      "                                                                 \n",
      " dense (Dense)               (None, 10)                1540      \n",
      "                                                                 \n",
      "=================================================================\n",
      "Total params: 1,863\n",
      "Trainable params: 1,863\n",
      "Non-trainable params: 0\n",
      "_________________________________________________________________\n",
      "None\n"
     ]
    }
   ],
   "source": [
    "model = Sequential()\n",
    "model.add(Conv2D(17, (3,3), activation='relu', input_shape=(103, 103, 2), strides=(10,10), padding='VALID')) # , padding='SAME'))\n",
    "model.add(MaxPooling2D((3, 3)))\n",
    "model.add(Flatten())\n",
    "model.add(Dense(10, activation='softmax'))\n",
    "print(model.summary())"
   ]
  },
  {
   "cell_type": "code",
   "execution_count": 111,
   "id": "67a8b0d1",
   "metadata": {},
   "outputs": [
    {
     "name": "stdout",
     "output_type": "stream",
     "text": [
      "Model: \"sequential_59\"\n",
      "_________________________________________________________________\n",
      " Layer (type)                Output Shape              Param #   \n",
      "=================================================================\n",
      " conv2d_59 (Conv2D)          (None, 13, 13, 17)        323       \n",
      "                                                                 \n",
      " max_pooling2d_47 (MaxPoolin  (None, 4, 4, 17)         0         \n",
      " g2D)                                                            \n",
      "                                                                 \n",
      " flatten_46 (Flatten)        (None, 272)               0         \n",
      "                                                                 \n",
      " dense_50 (Dense)            (None, 10)                2730      \n",
      "                                                                 \n",
      "=================================================================\n",
      "Total params: 3,053\n",
      "Trainable params: 3,053\n",
      "Non-trainable params: 0\n",
      "_________________________________________________________________\n",
      "None\n",
      "(None, 13, 13, 17)\n",
      "(None, 4, 4, 17)\n",
      "(None, 272)\n",
      "(None, 10)\n",
      "(None, 13, 13, 17)\n",
      "13\n"
     ]
    }
   ],
   "source": [
    "model = Sequential()\n",
    "model.add(Conv2D(17, (3,3), activation='relu', input_shape=(128, 128, 2), strides=(10,10), padding='SAME'))\n",
    "model.add(MaxPooling2D((3, 3)))\n",
    "model.add(Flatten())\n",
    "model.add(Dense(10, activation='softmax'))\n",
    "print(model.summary())\n",
    "for layer in model.layers:b\n",
    "    print(layer.output_shape)\n",
    "print(model.layers[0].output_shape)\n",
    "print(model.layers[0].output_shape[1])"
   ]
  },
  {
   "cell_type": "code",
   "execution_count": 126,
   "id": "d187a7f8",
   "metadata": {},
   "outputs": [
    {
     "name": "stdout",
     "output_type": "stream",
     "text": [
      "  in_width     stride     kernel_width  width_VALID  width_SAME\n",
      "-----------  -----------  ------------  -----------  -----------\n",
      "      39         10            3\n",
      "expected\n",
      "                                             3            4\n",
      "observed\n",
      "                                                          4\n",
      "                                             4\n"
     ]
    }
   ],
   "source": [
    "import math\n",
    "\n",
    "\n",
    "\n",
    "# print(\"hello {:20d}\".format(5))\n",
    "\n",
    "print(\"  in_width     stride     kernel_width  width_VALID  width_SAME\")\n",
    "print(\"-----------  -----------  ------------  -----------  -----------\")\n",
    "\n",
    "in_width = 39\n",
    "stride = 10\n",
    "kernel_width = 3\n",
    "\n",
    "# expected\n",
    "out_width_valid_expected = math.floor(in_width / stride)\n",
    "out_width_same_expected  = math.ceil(in_width / stride)\n",
    "\n",
    "print(\"{:8d}{:11d}{:13d}\".format(\n",
    "    in_width,\n",
    "    stride,\n",
    "    kernel_width))\n",
    "\n",
    "print(\"expected\")\n",
    "print(\"                               {:15d}{:13d}\".format(\n",
    "    out_width_valid_expected,\n",
    "    out_width_same_expected))\n",
    "\n",
    "print(\"observed\")\n",
    "# SAME\n",
    "model = Sequential()\n",
    "model.add(Conv2D(17, (kernel_width, kernel_width), activation='relu', input_shape=(in_width, in_width, 2), strides=(stride,stride), padding='SAME'))\n",
    "print(\"                                                          {}\".format(model.layers[0].output_shape[1]))\n",
    "\n",
    "# VALID\n",
    "model = Sequential()\n",
    "model.add(Conv2D(17, (kernel_width, kernel_width), activation='relu', input_shape=(in_width, in_width, 2), strides=(stride,stride), padding='VALID'))\n",
    "print(\"                                             {}\".format(model.layers[0].output_shape[1]))\n",
    "\n",
    "\n",
    "\n"
   ]
  },
  {
   "cell_type": "markdown",
   "id": "f03f665a",
   "metadata": {},
   "source": [
    "### mess with strides and padding=SAME... "
   ]
  },
  {
   "cell_type": "code",
   "execution_count": 135,
   "id": "237cb4db",
   "metadata": {},
   "outputs": [
    {
     "name": "stdout",
     "output_type": "stream",
     "text": [
      "Model: \"sequential_97\"\n",
      "_________________________________________________________________\n",
      " Layer (type)                Output Shape              Param #   \n",
      "=================================================================\n",
      " conv2d_97 (Conv2D)          (None, 7, 7, 17)          561       \n",
      "                                                                 \n",
      " max_pooling2d_54 (MaxPoolin  (None, 2, 2, 17)         0         \n",
      " g2D)                                                            \n",
      "                                                                 \n",
      " flatten_52 (Flatten)        (None, 68)                0         \n",
      "                                                                 \n",
      " dense_56 (Dense)            (None, 10)                690       \n",
      "                                                                 \n",
      "=================================================================\n",
      "Total params: 1,251\n",
      "Trainable params: 1,251\n",
      "Non-trainable params: 0\n",
      "_________________________________________________________________\n",
      "None\n"
     ]
    }
   ],
   "source": [
    "model = Sequential()\n",
    "model.add(Conv2D(17, (4,4), activation='relu', input_shape=(28, 28, 2), strides=(4,4), padding='SAME'))\n",
    "model.add(MaxPooling2D((3, 3)))\n",
    "model.add(Flatten())\n",
    "model.add(Dense(10, activation='softmax'))\n",
    "print(model.summary())"
   ]
  },
  {
   "cell_type": "markdown",
   "id": "0ad7ca1f",
   "metadata": {},
   "source": [
    "### channels_first"
   ]
  },
  {
   "cell_type": "code",
   "execution_count": 142,
   "id": "586dae64",
   "metadata": {},
   "outputs": [
    {
     "name": "stdout",
     "output_type": "stream",
     "text": [
      "Model: \"sequential_99\"\n",
      "_________________________________________________________________\n",
      " Layer (type)                Output Shape              Param #   \n",
      "=================================================================\n",
      " conv2d_99 (Conv2D)          (None, 17, 7, 7)          289       \n",
      "                                                                 \n",
      " max_pooling2d_55 (MaxPoolin  (None, 17, 2, 2)         0         \n",
      " g2D)                                                            \n",
      "                                                                 \n",
      " flatten_53 (Flatten)        (None, 68)                0         \n",
      "                                                                 \n",
      " dense_57 (Dense)            (None, 10)                690       \n",
      "                                                                 \n",
      "=================================================================\n",
      "Total params: 979\n",
      "Trainable params: 979\n",
      "Non-trainable params: 0\n",
      "_________________________________________________________________\n",
      "None\n"
     ]
    }
   ],
   "source": [
    "model = Sequential()\n",
    "model.add(Conv2D(17, (4,4),\n",
    "                 activation='relu', input_shape=(1, 28, 28), strides=(4,4),\n",
    "                 padding='SAME', data_format=\"channels_first\"))\n",
    "model.add(MaxPooling2D((3, 3), data_format=\"channels_first\"))\n",
    "model.add(Flatten())\n",
    "model.add(Dense(10, activation='softmax'))\n",
    "print(model.summary())"
   ]
  },
  {
   "cell_type": "code",
   "execution_count": null,
   "id": "1f978a18",
   "metadata": {},
   "outputs": [],
   "source": []
  },
  {
   "cell_type": "markdown",
   "id": "a4486358",
   "metadata": {},
   "source": [
    "## Summary Conv2D:\n",
    "\n",
    "This is a 2-D \"convolution\"\n",
    "\n",
    "* Number of parameters is number_of_filters * kernel_size\n",
    "\n",
    "\n",
    "* Output Shape [2] is the number_of_filters\n",
    "\n",
    "\n",
    "* Output Shape [0,1] is driven mostly as input_shape / stride. Because this is fractional the \"padding\" switch gives two options:\n",
    "  * padding='VALID'\n",
    "    * output_shape = floor(input_shape / stride)\n",
    "    * the algorithm drops the input that is the remainder in the division\n",
    "  * padding='SAME'\n",
    "    * output_shape = ceil(input_shape / stride)\n",
    "    * The algorithm adds to the input to make up data.  The data is added \"evenly\" at left and right edges, and is zero in value (or as indicated by Tones29 negative infinity is the input can be negative valued https://stackoverflow.com/questions/37674306/what-is-the-difference-between-same-and-valid-padding-in-tf-nn-max-pool-of-t )\n",
    "\n",
    "There is no right or wrong here. The latter avoids \n",
    "\n",
    "  * if padding='VALID'\n",
    "    * output size will essentially be input_size / stride (and increases when crop hits kernel size)\n",
    "    * the input image is cropped (right/bottom) to an even edge based on ( stride * N + kernel_size).  Note this does not affect the number of parameters, but it does affect the output shape.\n",
    "    * there is a loss of data at the cropped edge, but all data into kernel is valid  \n",
    "\n",
    "* if padding='SAME'\n",
    "    * zero-valued padding is added to the input image. This will be of size (some fraction of kernel) added on left and right\n",
    "    \n",
    "    * such that the output shape == input shape. Care should be taken using this setting because:\n",
    "    * for non-binary images it introduces an edge to the kernel during training which could affect other areas of the image during runtime.\n",
    "    * note that stride should be smaller than kernel size if the goal is overlapping regions.\n",
    "\n",
    "\n"
   ]
  },
  {
   "cell_type": "code",
   "execution_count": null,
   "id": "3612d8bb",
   "metadata": {},
   "outputs": [],
   "source": []
  },
  {
   "cell_type": "code",
   "execution_count": null,
   "id": "783af7e5",
   "metadata": {},
   "outputs": [],
   "source": []
  },
  {
   "cell_type": "code",
   "execution_count": null,
   "id": "168559d2",
   "metadata": {},
   "outputs": [],
   "source": []
  },
  {
   "cell_type": "code",
   "execution_count": null,
   "id": "ee3455c5",
   "metadata": {},
   "outputs": [],
   "source": []
  },
  {
   "cell_type": "code",
   "execution_count": null,
   "id": "51b7b7fd",
   "metadata": {},
   "outputs": [],
   "source": []
  },
  {
   "cell_type": "code",
   "execution_count": null,
   "id": "51ec8a6d",
   "metadata": {},
   "outputs": [],
   "source": []
  },
  {
   "cell_type": "code",
   "execution_count": null,
   "id": "d7fe1177",
   "metadata": {},
   "outputs": [],
   "source": []
  }
 ],
 "metadata": {
  "kernelspec": {
   "display_name": "Python 3 (ipykernel)",
   "language": "python",
   "name": "python3"
  },
  "language_info": {
   "codemirror_mode": {
    "name": "ipython",
    "version": 3
   },
   "file_extension": ".py",
   "mimetype": "text/x-python",
   "name": "python",
   "nbconvert_exporter": "python",
   "pygments_lexer": "ipython3",
   "version": "3.9.12"
  }
 },
 "nbformat": 4,
 "nbformat_minor": 5
}
