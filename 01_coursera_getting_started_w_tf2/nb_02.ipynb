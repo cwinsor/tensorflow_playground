{
 "cells": [
  {
   "cell_type": "code",
   "execution_count": 9,
   "id": "bb7196db",
   "metadata": {},
   "outputs": [],
   "source": [
    "from tensorflow.keras.models import Sequential\n",
    "from tensorflow.keras.layers import Dense, Flatten, Softmax\n",
    "import tensorflow as tf"
   ]
  },
  {
   "cell_type": "code",
   "execution_count": 10,
   "id": "4ebbd792",
   "metadata": {},
   "outputs": [],
   "source": [
    "model = Sequential([\n",
    "    Dense(64, activation='elu', input_shape=(32,)),\n",
    "    Dense(1, activation='sigmoid')\n",
    "])\n",
    "\n",
    "model.compile( \n",
    "    optimizer='sgd', # adam, rmsprop, adadelta\n",
    "    loss='binary_crossentropy',  # mean_squared_error, categorical_crossentropy\n",
    "    metrics=['accuracy', 'mae']\n",
    ")"
   ]
  },
  {
   "cell_type": "markdown",
   "id": "c72a95c2",
   "metadata": {},
   "source": [
    "# use references to modules in the library instead of strings"
   ]
  },
  {
   "cell_type": "code",
   "execution_count": 12,
   "id": "3b6e1e39",
   "metadata": {},
   "outputs": [],
   "source": [
    "model = Sequential([\n",
    "    Dense(64, activation='elu', input_shape=(32,)),\n",
    "    Dense(1, activation='sigmoid')\n",
    "])\n",
    "\n",
    "model.compile( \n",
    "    optimizer=tf.keras.optimizers.SGD(),\n",
    "    loss=tf.keras.losses.BinaryCrossentropy(),\n",
    "    metrics=[tf.keras.metrics.BinaryAccuracy(),\n",
    "             tf.keras.metrics.MeanAbsoluteError()])"
   ]
  },
  {
   "cell_type": "markdown",
   "id": "f0a2e3bb",
   "metadata": {},
   "source": [
    "### dork with parameters on the above components..."
   ]
  },
  {
   "cell_type": "code",
   "execution_count": 14,
   "id": "9135e579",
   "metadata": {},
   "outputs": [],
   "source": [
    "model = Sequential([\n",
    "    Dense(64, activation='elu', input_shape=(32,)),\n",
    "    Dense(1, activation='linear')\n",
    "])\n",
    "\n",
    "model.compile( \n",
    "    optimizer=tf.keras.optimizers.SGD(learning_rate=0.001, momentum=0.9, nesterov=True),\n",
    "    loss=tf.keras.losses.BinaryCrossentropy(from_logits=True),\n",
    "    metrics=[tf.keras.metrics.BinaryAccuracy(threshold=0.7),\n",
    "             tf.keras.metrics.MeanAbsoluteError()])"
   ]
  },
  {
   "cell_type": "code",
   "execution_count": 19,
   "id": "0070f7a7",
   "metadata": {},
   "outputs": [],
   "source": [
    "opt = tf.keras.optimizers.Adam(learning_rate=0.005)\n",
    "acc = tf.keras.metrics.SparseCategoricalAccuracy()\n",
    "mae = tf.keras.metrics.MeanAbsoluteError()\n",
    "\n",
    "model.compile(optimizer=opt,\n",
    "             loss='sparse_categorical_crossentropy', # categorical_crossentropy\n",
    "             metrics=[acc, mae])"
   ]
  },
  {
   "cell_type": "code",
   "execution_count": 20,
   "id": "234975f9",
   "metadata": {},
   "outputs": [
    {
     "name": "stdout",
     "output_type": "stream",
     "text": [
      "sparse_categorical_crossentropy\n",
      "<keras.optimizers.optimizer_v2.adam.Adam object at 0x000002AE288863D0>\n",
      "<tf.Variable 'learning_rate:0' shape=() dtype=float32, numpy=0.005>\n",
      "[]\n"
     ]
    }
   ],
   "source": [
    "# Print the resulting model attributes\n",
    "print(model.loss)\n",
    "print(model.optimizer)\n",
    "print(model.optimizer.lr)\n",
    "print(model.metrics)"
   ]
  },
  {
   "cell_type": "markdown",
   "id": "330bceb7",
   "metadata": {},
   "source": [
    "# The Fit method\n",
    "* history is the loss and metrics during training\n",
    "* if y_train is categorical/sparse use \n"
   ]
  },
  {
   "cell_type": "code",
   "execution_count": null,
   "id": "5237c4b3",
   "metadata": {},
   "outputs": [],
   "source": [
    "history = model.fit(X_train, y_train, epochs=10, batch_size=16)"
   ]
  },
  {
   "cell_type": "code",
   "execution_count": null,
   "id": "b7ea8ff6",
   "metadata": {},
   "outputs": [],
   "source": [
    "# if y_train is categorial with multiple classes then y_train is a one-dimensional array - \n",
    "# use categorical_crossentropy loss function\n",
    "\n",
    "model.compile(optimizer=opt,\n",
    "             loss='categorical_crossentropy', # <---------------\n",
    "             metrics=[acc, mae])\n",
    "\n",
    "model.fit(X_train, y_train)\n",
    "\n",
    "# X_train: (num_samples, num_features)\n",
    "# y_train: (num_samples, num_classes) <---------------------------------\n"
   ]
  },
  {
   "cell_type": "code",
   "execution_count": null,
   "id": "6c9b7581",
   "metadata": {},
   "outputs": [],
   "source": [
    "# if y_train is categorial/single integer then y_train is one-dimensional array - \n",
    "# use sparse_categorical_crossentropy loss function\n",
    "\n",
    "model.compile(optimizer=opt,\n",
    "             loss='sparse_categorical_crossentropy', # <---------------\n",
    "             metrics=[acc, mae])\n",
    "\n",
    "model.fit(X_train, y_train)\n",
    "\n",
    "# X_train: (num_samples, num_features)\n",
    "# y_train: (num_samples,) <---------------------------------\n",
    "\n"
   ]
  }
 ],
 "metadata": {
  "kernelspec": {
   "display_name": "Python 3 (ipykernel)",
   "language": "python",
   "name": "python3"
  },
  "language_info": {
   "codemirror_mode": {
    "name": "ipython",
    "version": 3
   },
   "file_extension": ".py",
   "mimetype": "text/x-python",
   "name": "python",
   "nbconvert_exporter": "python",
   "pygments_lexer": "ipython3",
   "version": "3.9.12"
  }
 },
 "nbformat": 4,
 "nbformat_minor": 5
}
